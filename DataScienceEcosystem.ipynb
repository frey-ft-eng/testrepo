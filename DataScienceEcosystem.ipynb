{
 "cells": [
  {
   "cell_type": "markdown",
   "id": "ff975f0b",
   "metadata": {},
   "source": [
    "# Data Science Tools and Ecosystem"
   ]
  },
  {
   "cell_type": "markdown",
   "id": "15653e89",
   "metadata": {},
   "source": [
    "In this notebook, Data Science Tools and Ecosystems are summarized."
   ]
  },
  {
   "cell_type": "markdown",
   "id": "84dbc70f",
   "metadata": {},
   "source": [
    "Some of the popular languages that Data Scientists use are:\n",
    "\n",
    "1) Python\n",
    "2) C\n",
    "3) Java"
   ]
  },
  {
   "cell_type": "markdown",
   "id": "fa708ccb",
   "metadata": {},
   "source": [
    "Some of the commonly used libraries used by Data Scientists include:\n",
    "\n",
    "1. NumPy\n",
    "2. Matplotlib\n",
    "3. TensorFlow"
   ]
  },
  {
   "cell_type": "markdown",
   "id": "d5561395",
   "metadata": {},
   "source": [
    "| Data Science Tools |\n",
    "|:------------------:|\n",
    "| Jupyter |\n",
    "| RStudio |\n",
    "| Apache Spark |"
   ]
  },
  {
   "cell_type": "markdown",
   "id": "c9ddc538",
   "metadata": {},
   "source": [
    "### Below are a few examples of evaluating arithmetic expressions in Python."
   ]
  },
  {
   "cell_type": "code",
   "execution_count": 3,
   "id": "bb322071",
   "metadata": {},
   "outputs": [
    {
     "name": "stdout",
     "output_type": "stream",
     "text": [
      "This a simple arithmetic expression to mutiply then add integers.\n",
      "\n",
      "\n",
      "(3*4)+5\n",
      "\n",
      "\n",
      "The answer is: 17\n"
     ]
    }
   ],
   "source": [
    "print(\"This a simple arithmetic expression to mutiply then add integers.\")\n",
    "print('\\n')\n",
    "print('(3*4)+5')\n",
    "number = (3*4)+5\n",
    "print('\\n')\n",
    "print('The answer is:', number)"
   ]
  },
  {
   "cell_type": "code",
   "execution_count": 6,
   "id": "b0b6fecf",
   "metadata": {},
   "outputs": [
    {
     "name": "stdout",
     "output_type": "stream",
     "text": [
      "This will convert 200 minutes to hours by diving by 60.\n",
      "\n",
      "\n",
      "The answer is: 3.3333333333333335 hours\n"
     ]
    }
   ],
   "source": [
    "print('This will convert 200 minutes to hours by diving by 60.')\n",
    "print('\\n')\n",
    "number = 200/60\n",
    "print('The answer is:',number,'hours')"
   ]
  },
  {
   "cell_type": "markdown",
   "id": "d2d9e486",
   "metadata": {},
   "source": [
    "**Objectives:**\n",
    " - Popular languages for Data Science\n",
    " - Commonly used libraries for Data Science\n",
    " - Evaluating arithmetic expressions in Python"
   ]
  },
  {
   "cell_type": "markdown",
   "id": "f1be6477",
   "metadata": {},
   "source": [
    "## Author\n",
    "Madelynn Frey"
   ]
  },
  {
   "cell_type": "code",
   "execution_count": null,
   "id": "0faaced3",
   "metadata": {},
   "outputs": [],
   "source": []
  }
 ],
 "metadata": {
  "kernelspec": {
   "display_name": "Python 3 (ipykernel)",
   "language": "python",
   "name": "python3"
  },
  "language_info": {
   "codemirror_mode": {
    "name": "ipython",
    "version": 3
   },
   "file_extension": ".py",
   "mimetype": "text/x-python",
   "name": "python",
   "nbconvert_exporter": "python",
   "pygments_lexer": "ipython3",
   "version": "3.10.9"
  }
 },
 "nbformat": 4,
 "nbformat_minor": 5
}
